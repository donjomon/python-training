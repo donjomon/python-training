{
 "cells": [
  {
   "cell_type": "code",
   "execution_count": 73,
   "id": "49e264e2-4a98-4d39-a293-5ead5ff35b4b",
   "metadata": {},
   "outputs": [],
   "source": [
    "import pandas as pd\n",
    "import os"
   ]
  },
  {
   "cell_type": "code",
   "execution_count": 74,
   "id": "03f6452a-6943-43a2-b073-02d8c0771642",
   "metadata": {},
   "outputs": [],
   "source": [
    "import sqlite3"
   ]
  },
  {
   "cell_type": "markdown",
   "id": "0759dbea-ba5e-41f0-ab65-778416e97fc5",
   "metadata": {},
   "source": [
    "# Cleaning bollywood_movies"
   ]
  },
  {
   "cell_type": "code",
   "execution_count": 127,
   "id": "f0cfb5d4-8fe5-4bca-bd7a-298a0d7d8767",
   "metadata": {},
   "outputs": [],
   "source": [
    "# load file "
   ]
  },
  {
   "cell_type": "code",
   "execution_count": 128,
   "id": "237ffe24-8509-4bc8-80d3-9c4480058774",
   "metadata": {},
   "outputs": [],
   "source": [
    "d_path=os.path.join('movies_data','bollywood_movies.sqlite')"
   ]
  },
  {
   "cell_type": "code",
   "execution_count": 129,
   "id": "06357b73-2844-48b8-be72-a20d06301cec",
   "metadata": {},
   "outputs": [],
   "source": [
    "conn = sqlite3.connect(d_path)"
   ]
  },
  {
   "cell_type": "code",
   "execution_count": 130,
   "id": "81539894-dfe3-4e3a-ae4c-57d0edf8660f",
   "metadata": {},
   "outputs": [
    {
     "data": {
      "text/html": [
       "<div>\n",
       "<style scoped>\n",
       "    .dataframe tbody tr th:only-of-type {\n",
       "        vertical-align: middle;\n",
       "    }\n",
       "\n",
       "    .dataframe tbody tr th {\n",
       "        vertical-align: top;\n",
       "    }\n",
       "\n",
       "    .dataframe thead th {\n",
       "        text-align: right;\n",
       "    }\n",
       "</style>\n",
       "<table border=\"1\" class=\"dataframe\">\n",
       "  <thead>\n",
       "    <tr style=\"text-align: right;\">\n",
       "      <th></th>\n",
       "      <th>name</th>\n",
       "    </tr>\n",
       "  </thead>\n",
       "  <tbody>\n",
       "    <tr>\n",
       "      <th>0</th>\n",
       "      <td>Movies</td>\n",
       "    </tr>\n",
       "  </tbody>\n",
       "</table>\n",
       "</div>"
      ],
      "text/plain": [
       "     name\n",
       "0  Movies"
      ]
     },
     "execution_count": 130,
     "metadata": {},
     "output_type": "execute_result"
    }
   ],
   "source": [
    "tables = pd.read_sql_query(\"SELECT name From sqlite_master WHERE type='table';\",conn)\n",
    "tables"
   ]
  },
  {
   "cell_type": "code",
   "execution_count": 131,
   "id": "85d15e78-c9bf-41e6-8c80-a7b5f1a93879",
   "metadata": {},
   "outputs": [
    {
     "data": {
      "text/html": [
       "<div>\n",
       "<style scoped>\n",
       "    .dataframe tbody tr th:only-of-type {\n",
       "        vertical-align: middle;\n",
       "    }\n",
       "\n",
       "    .dataframe tbody tr th {\n",
       "        vertical-align: top;\n",
       "    }\n",
       "\n",
       "    .dataframe thead th {\n",
       "        text-align: right;\n",
       "    }\n",
       "</style>\n",
       "<table border=\"1\" class=\"dataframe\">\n",
       "  <thead>\n",
       "    <tr style=\"text-align: right;\">\n",
       "      <th></th>\n",
       "      <th>index</th>\n",
       "      <th>MovieID</th>\n",
       "      <th>Title</th>\n",
       "      <th>Director</th>\n",
       "      <th>Genre</th>\n",
       "      <th>ReleaseYear</th>\n",
       "      <th>Budget (Crores)</th>\n",
       "      <th>BoxOffice (Crores)</th>\n",
       "      <th>Rating</th>\n",
       "      <th>Duration (minutes)</th>\n",
       "      <th>LeadActor</th>\n",
       "      <th>LeadActress</th>\n",
       "      <th>Language</th>\n",
       "      <th>ProductionCompany</th>\n",
       "    </tr>\n",
       "  </thead>\n",
       "  <tbody>\n",
       "    <tr>\n",
       "      <th>0</th>\n",
       "      <td>0</td>\n",
       "      <td>MOV001</td>\n",
       "      <td>Lagaan</td>\n",
       "      <td>Ashutosh Gowariker</td>\n",
       "      <td>None</td>\n",
       "      <td>2001</td>\n",
       "      <td>NaN</td>\n",
       "      <td>100.0</td>\n",
       "      <td>8.1</td>\n",
       "      <td>224</td>\n",
       "      <td>Aamir Khan</td>\n",
       "      <td>Gracy Singh</td>\n",
       "      <td>Hindi</td>\n",
       "      <td>Aamir Khan Productions</td>\n",
       "    </tr>\n",
       "    <tr>\n",
       "      <th>1</th>\n",
       "      <td>1</td>\n",
       "      <td>MOV002</td>\n",
       "      <td>Kabhi Khushi Kabhie Gham...</td>\n",
       "      <td>Karan Johar</td>\n",
       "      <td>Family Drama</td>\n",
       "      <td>2001</td>\n",
       "      <td>50.0</td>\n",
       "      <td>100.0</td>\n",
       "      <td>7.9</td>\n",
       "      <td>210</td>\n",
       "      <td>Shah Rukh Khan</td>\n",
       "      <td>Kajol</td>\n",
       "      <td>Hindi</td>\n",
       "      <td>Dharma Productions</td>\n",
       "    </tr>\n",
       "    <tr>\n",
       "      <th>2</th>\n",
       "      <td>2</td>\n",
       "      <td>MOV003</td>\n",
       "      <td>M.S. Dhoni: The Untold Story</td>\n",
       "      <td>Neeraj Pandey</td>\n",
       "      <td>Biographical Sports Drama</td>\n",
       "      <td>2016</td>\n",
       "      <td>NaN</td>\n",
       "      <td>215.0</td>\n",
       "      <td>7.9</td>\n",
       "      <td>184</td>\n",
       "      <td>Sushant Singh Rajput</td>\n",
       "      <td>Kiara Advani</td>\n",
       "      <td>Hindi</td>\n",
       "      <td>Fox Star Studios</td>\n",
       "    </tr>\n",
       "    <tr>\n",
       "      <th>3</th>\n",
       "      <td>3</td>\n",
       "      <td>MOV004</td>\n",
       "      <td>Baahubali 2: The Conclusion</td>\n",
       "      <td>S. S. Rajamouli</td>\n",
       "      <td>Epic Fantasy Action</td>\n",
       "      <td>2017</td>\n",
       "      <td>250.0</td>\n",
       "      <td>1810.0</td>\n",
       "      <td>8.2</td>\n",
       "      <td>171</td>\n",
       "      <td>Prabhas</td>\n",
       "      <td>Anushka Shetty</td>\n",
       "      <td>Telugu</td>\n",
       "      <td>Arka Media Works</td>\n",
       "    </tr>\n",
       "    <tr>\n",
       "      <th>4</th>\n",
       "      <td>4</td>\n",
       "      <td>MOV005</td>\n",
       "      <td>Chennai Express</td>\n",
       "      <td>Rohit Shetty</td>\n",
       "      <td>Action Comedy</td>\n",
       "      <td>2013</td>\n",
       "      <td>NaN</td>\n",
       "      <td>423.0</td>\n",
       "      <td>6.4</td>\n",
       "      <td>141</td>\n",
       "      <td>Shah Rukh Khan</td>\n",
       "      <td>Deepika Padukone</td>\n",
       "      <td>Hindi</td>\n",
       "      <td>Red Chillies Entertainment</td>\n",
       "    </tr>\n",
       "  </tbody>\n",
       "</table>\n",
       "</div>"
      ],
      "text/plain": [
       "   index MovieID                         Title            Director  \\\n",
       "0      0  MOV001                        Lagaan  Ashutosh Gowariker   \n",
       "1      1  MOV002   Kabhi Khushi Kabhie Gham...         Karan Johar   \n",
       "2      2  MOV003  M.S. Dhoni: The Untold Story       Neeraj Pandey   \n",
       "3      3  MOV004   Baahubali 2: The Conclusion     S. S. Rajamouli   \n",
       "4      4  MOV005               Chennai Express        Rohit Shetty   \n",
       "\n",
       "                       Genre  ReleaseYear  Budget (Crores)  \\\n",
       "0                       None         2001              NaN   \n",
       "1               Family Drama         2001             50.0   \n",
       "2  Biographical Sports Drama         2016              NaN   \n",
       "3        Epic Fantasy Action         2017            250.0   \n",
       "4              Action Comedy         2013              NaN   \n",
       "\n",
       "   BoxOffice (Crores)  Rating  Duration (minutes)             LeadActor  \\\n",
       "0               100.0     8.1                 224            Aamir Khan   \n",
       "1               100.0     7.9                 210        Shah Rukh Khan   \n",
       "2               215.0     7.9                 184  Sushant Singh Rajput   \n",
       "3              1810.0     8.2                 171               Prabhas   \n",
       "4               423.0     6.4                 141        Shah Rukh Khan   \n",
       "\n",
       "        LeadActress Language           ProductionCompany  \n",
       "0       Gracy Singh    Hindi      Aamir Khan Productions  \n",
       "1             Kajol    Hindi          Dharma Productions  \n",
       "2      Kiara Advani    Hindi            Fox Star Studios  \n",
       "3    Anushka Shetty   Telugu            Arka Media Works  \n",
       "4  Deepika Padukone    Hindi  Red Chillies Entertainment  "
      ]
     },
     "execution_count": 131,
     "metadata": {},
     "output_type": "execute_result"
    }
   ],
   "source": [
    "df=pd.read_sql_query(\"SELECT * FROM movies\",conn)\n",
    "df.head()"
   ]
  },
  {
   "cell_type": "code",
   "execution_count": 132,
   "id": "3e36a648-a9c9-4123-b8b5-b41b0a230d31",
   "metadata": {},
   "outputs": [
    {
     "name": "stdout",
     "output_type": "stream",
     "text": [
      "Index(['index', 'MovieID', 'Title', 'Director', 'Genre', 'ReleaseYear',\n",
      "       'Budget (Crores)', 'BoxOffice (Crores)', 'Rating', 'Duration (minutes)',\n",
      "       'LeadActor', 'LeadActress', 'Language', 'ProductionCompany'],\n",
      "      dtype='object')\n"
     ]
    }
   ],
   "source": [
    "df = pd.read_sql_query(\"Select * from movies LIMIT 5\",conn)\n",
    "print(df.columns)"
   ]
  },
  {
   "cell_type": "code",
   "execution_count": 133,
   "id": "bc133d7a-91fb-4e76-9633-66ecb744a4a0",
   "metadata": {},
   "outputs": [
    {
     "name": "stdout",
     "output_type": "stream",
     "text": [
      "<class 'pandas.core.frame.DataFrame'>\n",
      "RangeIndex: 5 entries, 0 to 4\n",
      "Data columns (total 14 columns):\n",
      " #   Column              Non-Null Count  Dtype  \n",
      "---  ------              --------------  -----  \n",
      " 0   index               5 non-null      int64  \n",
      " 1   MovieID             5 non-null      object \n",
      " 2   Title               5 non-null      object \n",
      " 3   Director            5 non-null      object \n",
      " 4   Genre               4 non-null      object \n",
      " 5   ReleaseYear         5 non-null      int64  \n",
      " 6   Budget (Crores)     2 non-null      float64\n",
      " 7   BoxOffice (Crores)  5 non-null      float64\n",
      " 8   Rating              5 non-null      float64\n",
      " 9   Duration (minutes)  5 non-null      int64  \n",
      " 10  LeadActor           5 non-null      object \n",
      " 11  LeadActress         5 non-null      object \n",
      " 12  Language            5 non-null      object \n",
      " 13  ProductionCompany   5 non-null      object \n",
      "dtypes: float64(3), int64(3), object(8)\n",
      "memory usage: 688.0+ bytes\n"
     ]
    }
   ],
   "source": [
    "df.info()"
   ]
  },
  {
   "cell_type": "code",
   "execution_count": 134,
   "id": "a820fe1a-7880-4676-9b01-d56cefa53510",
   "metadata": {},
   "outputs": [
    {
     "data": {
      "text/plain": [
       "index                 0\n",
       "MovieID               0\n",
       "Title                 0\n",
       "Director              0\n",
       "Genre                 1\n",
       "ReleaseYear           0\n",
       "Budget (Crores)       3\n",
       "BoxOffice (Crores)    0\n",
       "Rating                0\n",
       "Duration (minutes)    0\n",
       "LeadActor             0\n",
       "LeadActress           0\n",
       "Language              0\n",
       "ProductionCompany     0\n",
       "dtype: int64"
      ]
     },
     "execution_count": 134,
     "metadata": {},
     "output_type": "execute_result"
    }
   ],
   "source": [
    "df.isnull().sum()"
   ]
  },
  {
   "cell_type": "code",
   "execution_count": 135,
   "id": "6477ae89-f25e-4a04-b769-869e5a3fc0b9",
   "metadata": {},
   "outputs": [],
   "source": [
    "# fill null columns with 'Unknown' in 'Genre' and fill median values for 'Budget (Crores)"
   ]
  },
  {
   "cell_type": "code",
   "execution_count": 136,
   "id": "dc3efad1-8259-4341-b3a7-f4ac2a5e4b2d",
   "metadata": {},
   "outputs": [],
   "source": [
    "df['Genre']=df['Genre'].fillna('Unknown')\n",
    "df['Budget (Crores)']=df['Budget (Crores)'].fillna(df['Budget (Crores)'].median())"
   ]
  },
  {
   "cell_type": "code",
   "execution_count": 137,
   "id": "2eff0e02-1c42-42a0-9175-cac614f75656",
   "metadata": {},
   "outputs": [],
   "source": [
    "# remove special charcters and replace with '_' to avoid change in index "
   ]
  },
  {
   "cell_type": "code",
   "execution_count": 138,
   "id": "d05ef075-ed9e-4078-95ef-7a98efad0fb4",
   "metadata": {},
   "outputs": [],
   "source": [
    "df.columns = df.columns.str.replace(r\"[()\\s]\",\"_\",regex=True).str.strip(\"_\")"
   ]
  },
  {
   "cell_type": "code",
   "execution_count": 139,
   "id": "707a26e0-d68e-4542-93e6-7dd4caa58752",
   "metadata": {},
   "outputs": [
    {
     "name": "stdout",
     "output_type": "stream",
     "text": [
      "['index', 'MovieID', 'Title', 'Director', 'Genre', 'ReleaseYear', 'Budget__Crores', 'BoxOffice__Crores', 'Rating', 'Duration__minutes', 'LeadActor', 'LeadActress', 'Language', 'ProductionCompany']\n"
     ]
    }
   ],
   "source": [
    "print(df.columns.tolist())"
   ]
  },
  {
   "cell_type": "code",
   "execution_count": 87,
   "id": "dee21a27-6182-4290-af60-90643f1ae8c6",
   "metadata": {},
   "outputs": [],
   "source": [
    "# delete any duplicates if exist "
   ]
  },
  {
   "cell_type": "code",
   "execution_count": 88,
   "id": "53dc225e-3aa0-4d11-b358-3013d1e37368",
   "metadata": {},
   "outputs": [],
   "source": [
    "df=df.drop_duplicates()"
   ]
  },
  {
   "cell_type": "code",
   "execution_count": 89,
   "id": "c793b029-38f6-4e06-a42e-369a7510eeb6",
   "metadata": {},
   "outputs": [
    {
     "name": "stdout",
     "output_type": "stream",
     "text": [
      "<class 'pandas.core.frame.DataFrame'>\n",
      "RangeIndex: 5 entries, 0 to 4\n",
      "Data columns (total 14 columns):\n",
      " #   Column             Non-Null Count  Dtype  \n",
      "---  ------             --------------  -----  \n",
      " 0   index              5 non-null      int64  \n",
      " 1   MovieID            5 non-null      object \n",
      " 2   Title              5 non-null      object \n",
      " 3   Director           5 non-null      object \n",
      " 4   Genre              5 non-null      object \n",
      " 5   ReleaseYear        5 non-null      int64  \n",
      " 6   Budget__Crores     5 non-null      float64\n",
      " 7   BoxOffice__Crores  5 non-null      float64\n",
      " 8   Rating             5 non-null      float64\n",
      " 9   Duration__minutes  5 non-null      int64  \n",
      " 10  LeadActor          5 non-null      object \n",
      " 11  LeadActress        5 non-null      object \n",
      " 12  Language           5 non-null      object \n",
      " 13  ProductionCompany  5 non-null      object \n",
      "dtypes: float64(3), int64(3), object(8)\n",
      "memory usage: 688.0+ bytes\n"
     ]
    }
   ],
   "source": [
    "df.info()"
   ]
  },
  {
   "cell_type": "code",
   "execution_count": 90,
   "id": "1db9fd81-638f-4ce6-9cf0-5b549f6bba87",
   "metadata": {},
   "outputs": [
    {
     "data": {
      "text/html": [
       "<div>\n",
       "<style scoped>\n",
       "    .dataframe tbody tr th:only-of-type {\n",
       "        vertical-align: middle;\n",
       "    }\n",
       "\n",
       "    .dataframe tbody tr th {\n",
       "        vertical-align: top;\n",
       "    }\n",
       "\n",
       "    .dataframe thead th {\n",
       "        text-align: right;\n",
       "    }\n",
       "</style>\n",
       "<table border=\"1\" class=\"dataframe\">\n",
       "  <thead>\n",
       "    <tr style=\"text-align: right;\">\n",
       "      <th></th>\n",
       "      <th>index</th>\n",
       "      <th>MovieID</th>\n",
       "      <th>Title</th>\n",
       "      <th>Director</th>\n",
       "      <th>Genre</th>\n",
       "      <th>ReleaseYear</th>\n",
       "      <th>Budget__Crores</th>\n",
       "      <th>BoxOffice__Crores</th>\n",
       "      <th>Rating</th>\n",
       "      <th>Duration__minutes</th>\n",
       "      <th>LeadActor</th>\n",
       "      <th>LeadActress</th>\n",
       "      <th>Language</th>\n",
       "      <th>ProductionCompany</th>\n",
       "    </tr>\n",
       "  </thead>\n",
       "  <tbody>\n",
       "    <tr>\n",
       "      <th>0</th>\n",
       "      <td>0</td>\n",
       "      <td>MOV001</td>\n",
       "      <td>Lagaan</td>\n",
       "      <td>Ashutosh Gowariker</td>\n",
       "      <td>Unknown</td>\n",
       "      <td>2001</td>\n",
       "      <td>150.0</td>\n",
       "      <td>100.0</td>\n",
       "      <td>8.1</td>\n",
       "      <td>224</td>\n",
       "      <td>Aamir Khan</td>\n",
       "      <td>Gracy Singh</td>\n",
       "      <td>Hindi</td>\n",
       "      <td>Aamir Khan Productions</td>\n",
       "    </tr>\n",
       "    <tr>\n",
       "      <th>1</th>\n",
       "      <td>1</td>\n",
       "      <td>MOV002</td>\n",
       "      <td>Kabhi Khushi Kabhie Gham...</td>\n",
       "      <td>Karan Johar</td>\n",
       "      <td>Family Drama</td>\n",
       "      <td>2001</td>\n",
       "      <td>50.0</td>\n",
       "      <td>100.0</td>\n",
       "      <td>7.9</td>\n",
       "      <td>210</td>\n",
       "      <td>Shah Rukh Khan</td>\n",
       "      <td>Kajol</td>\n",
       "      <td>Hindi</td>\n",
       "      <td>Dharma Productions</td>\n",
       "    </tr>\n",
       "    <tr>\n",
       "      <th>2</th>\n",
       "      <td>2</td>\n",
       "      <td>MOV003</td>\n",
       "      <td>M.S. Dhoni: The Untold Story</td>\n",
       "      <td>Neeraj Pandey</td>\n",
       "      <td>Biographical Sports Drama</td>\n",
       "      <td>2016</td>\n",
       "      <td>150.0</td>\n",
       "      <td>215.0</td>\n",
       "      <td>7.9</td>\n",
       "      <td>184</td>\n",
       "      <td>Sushant Singh Rajput</td>\n",
       "      <td>Kiara Advani</td>\n",
       "      <td>Hindi</td>\n",
       "      <td>Fox Star Studios</td>\n",
       "    </tr>\n",
       "    <tr>\n",
       "      <th>3</th>\n",
       "      <td>3</td>\n",
       "      <td>MOV004</td>\n",
       "      <td>Baahubali 2: The Conclusion</td>\n",
       "      <td>S. S. Rajamouli</td>\n",
       "      <td>Epic Fantasy Action</td>\n",
       "      <td>2017</td>\n",
       "      <td>250.0</td>\n",
       "      <td>1810.0</td>\n",
       "      <td>8.2</td>\n",
       "      <td>171</td>\n",
       "      <td>Prabhas</td>\n",
       "      <td>Anushka Shetty</td>\n",
       "      <td>Telugu</td>\n",
       "      <td>Arka Media Works</td>\n",
       "    </tr>\n",
       "    <tr>\n",
       "      <th>4</th>\n",
       "      <td>4</td>\n",
       "      <td>MOV005</td>\n",
       "      <td>Chennai Express</td>\n",
       "      <td>Rohit Shetty</td>\n",
       "      <td>Action Comedy</td>\n",
       "      <td>2013</td>\n",
       "      <td>150.0</td>\n",
       "      <td>423.0</td>\n",
       "      <td>6.4</td>\n",
       "      <td>141</td>\n",
       "      <td>Shah Rukh Khan</td>\n",
       "      <td>Deepika Padukone</td>\n",
       "      <td>Hindi</td>\n",
       "      <td>Red Chillies Entertainment</td>\n",
       "    </tr>\n",
       "  </tbody>\n",
       "</table>\n",
       "</div>"
      ],
      "text/plain": [
       "   index MovieID                         Title            Director  \\\n",
       "0      0  MOV001                        Lagaan  Ashutosh Gowariker   \n",
       "1      1  MOV002   Kabhi Khushi Kabhie Gham...         Karan Johar   \n",
       "2      2  MOV003  M.S. Dhoni: The Untold Story       Neeraj Pandey   \n",
       "3      3  MOV004   Baahubali 2: The Conclusion     S. S. Rajamouli   \n",
       "4      4  MOV005               Chennai Express        Rohit Shetty   \n",
       "\n",
       "                       Genre  ReleaseYear  Budget__Crores  BoxOffice__Crores  \\\n",
       "0                    Unknown         2001           150.0              100.0   \n",
       "1               Family Drama         2001            50.0              100.0   \n",
       "2  Biographical Sports Drama         2016           150.0              215.0   \n",
       "3        Epic Fantasy Action         2017           250.0             1810.0   \n",
       "4              Action Comedy         2013           150.0              423.0   \n",
       "\n",
       "   Rating  Duration__minutes             LeadActor       LeadActress Language  \\\n",
       "0     8.1                224            Aamir Khan       Gracy Singh    Hindi   \n",
       "1     7.9                210        Shah Rukh Khan             Kajol    Hindi   \n",
       "2     7.9                184  Sushant Singh Rajput      Kiara Advani    Hindi   \n",
       "3     8.2                171               Prabhas    Anushka Shetty   Telugu   \n",
       "4     6.4                141        Shah Rukh Khan  Deepika Padukone    Hindi   \n",
       "\n",
       "            ProductionCompany  \n",
       "0      Aamir Khan Productions  \n",
       "1          Dharma Productions  \n",
       "2            Fox Star Studios  \n",
       "3            Arka Media Works  \n",
       "4  Red Chillies Entertainment  "
      ]
     },
     "execution_count": 90,
     "metadata": {},
     "output_type": "execute_result"
    }
   ],
   "source": [
    "df.head()"
   ]
  },
  {
   "cell_type": "code",
   "execution_count": 91,
   "id": "285ff496-4dd2-4403-89b0-fdd30bec5d2f",
   "metadata": {},
   "outputs": [],
   "source": [
    "# save cleaned file into .xlsx"
   ]
  },
  {
   "cell_type": "code",
   "execution_count": 92,
   "id": "fb5ba0de-c99d-4129-9d46-2a4d845e48c2",
   "metadata": {},
   "outputs": [],
   "source": [
    "df.to_excel(\"cleaned_bollywood_movies.xlsx\", index=False)"
   ]
  },
  {
   "cell_type": "markdown",
   "id": "c713072d-8a72-4ac3-88b5-96aa443459e4",
   "metadata": {},
   "source": [
    "# Cleaning indian_movies "
   ]
  },
  {
   "cell_type": "code",
   "execution_count": 93,
   "id": "c28b0c33-cefc-4a17-b710-7d72f293b1eb",
   "metadata": {},
   "outputs": [],
   "source": [
    "# load indian_movies"
   ]
  },
  {
   "cell_type": "code",
   "execution_count": 94,
   "id": "b7cf4a1e-0f50-4032-8a23-22bc47fe3012",
   "metadata": {},
   "outputs": [],
   "source": [
    "da_path=os.path.join('movies_data','indian_movies.csv')\n",
    "df = pd.read_csv(da_path)"
   ]
  },
  {
   "cell_type": "code",
   "execution_count": 95,
   "id": "637c2962-690e-4394-a3e6-cd6ca667e79d",
   "metadata": {},
   "outputs": [
    {
     "data": {
      "text/html": [
       "<div>\n",
       "<style scoped>\n",
       "    .dataframe tbody tr th:only-of-type {\n",
       "        vertical-align: middle;\n",
       "    }\n",
       "\n",
       "    .dataframe tbody tr th {\n",
       "        vertical-align: top;\n",
       "    }\n",
       "\n",
       "    .dataframe thead th {\n",
       "        text-align: right;\n",
       "    }\n",
       "</style>\n",
       "<table border=\"1\" class=\"dataframe\">\n",
       "  <thead>\n",
       "    <tr style=\"text-align: right;\">\n",
       "      <th></th>\n",
       "      <th>Unnamed: 0</th>\n",
       "      <th>MovieID</th>\n",
       "      <th>Title</th>\n",
       "      <th>Director</th>\n",
       "      <th>Genre</th>\n",
       "      <th>ReleaseYear</th>\n",
       "      <th>Budget (Crores)</th>\n",
       "      <th>BoxOffice (Crores)</th>\n",
       "      <th>Rating</th>\n",
       "      <th>Duration (minutes)</th>\n",
       "      <th>LeadActor</th>\n",
       "      <th>LeadActress</th>\n",
       "      <th>Language</th>\n",
       "      <th>ProductionCompany</th>\n",
       "    </tr>\n",
       "  </thead>\n",
       "  <tbody>\n",
       "    <tr>\n",
       "      <th>0</th>\n",
       "      <td>7</td>\n",
       "      <td>MOV008</td>\n",
       "      <td>Sarkar (Tamil)</td>\n",
       "      <td>A. R. Murugadoss</td>\n",
       "      <td>Action Thriller</td>\n",
       "      <td>2005.0</td>\n",
       "      <td>NaN</td>\n",
       "      <td>NaN</td>\n",
       "      <td>7.5</td>\n",
       "      <td>173.0</td>\n",
       "      <td>Vijay</td>\n",
       "      <td>Keerthy Suresh</td>\n",
       "      <td>Tamil</td>\n",
       "      <td>Kalaignar TV</td>\n",
       "    </tr>\n",
       "    <tr>\n",
       "      <th>1</th>\n",
       "      <td>9</td>\n",
       "      <td>MOV010</td>\n",
       "      <td>2.0 (Tamil)</td>\n",
       "      <td>S. Shankar</td>\n",
       "      <td>Science Fiction Action</td>\n",
       "      <td>2018.0</td>\n",
       "      <td>550.0</td>\n",
       "      <td>800.0</td>\n",
       "      <td>6.9</td>\n",
       "      <td>147.0</td>\n",
       "      <td>Rajinikanth</td>\n",
       "      <td>Amy Jackson</td>\n",
       "      <td>Tamil</td>\n",
       "      <td>Lyca Productions</td>\n",
       "    </tr>\n",
       "    <tr>\n",
       "      <th>2</th>\n",
       "      <td>21</td>\n",
       "      <td>MOV022</td>\n",
       "      <td>K.G.F: Chapter 1</td>\n",
       "      <td>Prashanth Neel</td>\n",
       "      <td>Action Drama</td>\n",
       "      <td>2018.0</td>\n",
       "      <td>50.0</td>\n",
       "      <td>250.0</td>\n",
       "      <td>7.9</td>\n",
       "      <td>156.0</td>\n",
       "      <td>Yash</td>\n",
       "      <td>Srinidhi Shetty</td>\n",
       "      <td>Kannada</td>\n",
       "      <td>Hombale Films</td>\n",
       "    </tr>\n",
       "    <tr>\n",
       "      <th>3</th>\n",
       "      <td>23</td>\n",
       "      <td>MOV024</td>\n",
       "      <td>Avengers: Endgame (Dubbed)</td>\n",
       "      <td>Anthony Russo, Joseph Russo</td>\n",
       "      <td>Superhero</td>\n",
       "      <td>2019.0</td>\n",
       "      <td>NaN</td>\n",
       "      <td>NaN</td>\n",
       "      <td>8.4</td>\n",
       "      <td>181.0</td>\n",
       "      <td>Robert Downey Jr.</td>\n",
       "      <td>Scarlett Johansson</td>\n",
       "      <td>English (Dubbed in Telugu, Kannada, Hindi)</td>\n",
       "      <td>Marvel Studios</td>\n",
       "    </tr>\n",
       "    <tr>\n",
       "      <th>4</th>\n",
       "      <td>25</td>\n",
       "      <td>MOV026</td>\n",
       "      <td>Pailwaan</td>\n",
       "      <td>S. Krishna</td>\n",
       "      <td>Sports Action</td>\n",
       "      <td>2019.0</td>\n",
       "      <td>30.0</td>\n",
       "      <td>55.0</td>\n",
       "      <td>6.8</td>\n",
       "      <td>NaN</td>\n",
       "      <td>Sudeep</td>\n",
       "      <td>Aakanksha Singh</td>\n",
       "      <td>Kannada</td>\n",
       "      <td>RRR Motion Pictures</td>\n",
       "    </tr>\n",
       "  </tbody>\n",
       "</table>\n",
       "</div>"
      ],
      "text/plain": [
       "   Unnamed: 0 MovieID                       Title  \\\n",
       "0           7  MOV008              Sarkar (Tamil)   \n",
       "1           9  MOV010                 2.0 (Tamil)   \n",
       "2          21  MOV022            K.G.F: Chapter 1   \n",
       "3          23  MOV024  Avengers: Endgame (Dubbed)   \n",
       "4          25  MOV026                    Pailwaan   \n",
       "\n",
       "                      Director                   Genre  ReleaseYear  \\\n",
       "0             A. R. Murugadoss         Action Thriller       2005.0   \n",
       "1                   S. Shankar  Science Fiction Action       2018.0   \n",
       "2               Prashanth Neel            Action Drama       2018.0   \n",
       "3  Anthony Russo, Joseph Russo               Superhero       2019.0   \n",
       "4                   S. Krishna           Sports Action       2019.0   \n",
       "\n",
       "   Budget (Crores)  BoxOffice (Crores)  Rating  Duration (minutes)  \\\n",
       "0              NaN                 NaN     7.5               173.0   \n",
       "1            550.0               800.0     6.9               147.0   \n",
       "2             50.0               250.0     7.9               156.0   \n",
       "3              NaN                 NaN     8.4               181.0   \n",
       "4             30.0                55.0     6.8                 NaN   \n",
       "\n",
       "           LeadActor         LeadActress  \\\n",
       "0              Vijay      Keerthy Suresh   \n",
       "1        Rajinikanth         Amy Jackson   \n",
       "2               Yash     Srinidhi Shetty   \n",
       "3  Robert Downey Jr.  Scarlett Johansson   \n",
       "4             Sudeep     Aakanksha Singh   \n",
       "\n",
       "                                     Language    ProductionCompany  \n",
       "0                                       Tamil         Kalaignar TV  \n",
       "1                                       Tamil     Lyca Productions  \n",
       "2                                     Kannada        Hombale Films  \n",
       "3  English (Dubbed in Telugu, Kannada, Hindi)       Marvel Studios  \n",
       "4                                     Kannada  RRR Motion Pictures  "
      ]
     },
     "execution_count": 95,
     "metadata": {},
     "output_type": "execute_result"
    }
   ],
   "source": [
    "df.head()"
   ]
  },
  {
   "cell_type": "code",
   "execution_count": 96,
   "id": "f58a00e7-0045-4c66-9ba5-988a35e3c6cb",
   "metadata": {},
   "outputs": [
    {
     "name": "stdout",
     "output_type": "stream",
     "text": [
      "<class 'pandas.core.frame.DataFrame'>\n",
      "RangeIndex: 18 entries, 0 to 17\n",
      "Data columns (total 14 columns):\n",
      " #   Column              Non-Null Count  Dtype  \n",
      "---  ------              --------------  -----  \n",
      " 0   Unnamed: 0          18 non-null     int64  \n",
      " 1   MovieID             18 non-null     object \n",
      " 2   Title               18 non-null     object \n",
      " 3   Director            18 non-null     object \n",
      " 4   Genre               18 non-null     object \n",
      " 5   ReleaseYear         17 non-null     float64\n",
      " 6   Budget (Crores)     10 non-null     float64\n",
      " 7   BoxOffice (Crores)  10 non-null     float64\n",
      " 8   Rating              17 non-null     float64\n",
      " 9   Duration (minutes)  17 non-null     float64\n",
      " 10  LeadActor           18 non-null     object \n",
      " 11  LeadActress         18 non-null     object \n",
      " 12  Language            18 non-null     object \n",
      " 13  ProductionCompany   18 non-null     object \n",
      "dtypes: float64(5), int64(1), object(8)\n",
      "memory usage: 2.1+ KB\n"
     ]
    }
   ],
   "source": [
    "df.info()"
   ]
  },
  {
   "cell_type": "code",
   "execution_count": 97,
   "id": "f9436ae4-5328-4205-bd6c-3b8e183fdfab",
   "metadata": {},
   "outputs": [
    {
     "data": {
      "text/plain": [
       "Unnamed: 0            0\n",
       "MovieID               0\n",
       "Title                 0\n",
       "Director              0\n",
       "Genre                 0\n",
       "ReleaseYear           1\n",
       "Budget (Crores)       8\n",
       "BoxOffice (Crores)    8\n",
       "Rating                1\n",
       "Duration (minutes)    1\n",
       "LeadActor             0\n",
       "LeadActress           0\n",
       "Language              0\n",
       "ProductionCompany     0\n",
       "dtype: int64"
      ]
     },
     "execution_count": 97,
     "metadata": {},
     "output_type": "execute_result"
    }
   ],
   "source": [
    "df.isnull().sum()"
   ]
  },
  {
   "cell_type": "code",
   "execution_count": 98,
   "id": "906dff23-6f47-4236-bbbe-2829b8a5aa5d",
   "metadata": {},
   "outputs": [],
   "source": [
    "# remove special charcters and replace with '_' to avoid change in index "
   ]
  },
  {
   "cell_type": "code",
   "execution_count": 99,
   "id": "1c4a3879-0d89-4488-ab81-20231a88871f",
   "metadata": {},
   "outputs": [],
   "source": [
    "df.columns=df.columns.str.replace(r\"[()\\s]\",\"_\",regex=True).str.strip(\"_\")"
   ]
  },
  {
   "cell_type": "code",
   "execution_count": 100,
   "id": "59fb222a-8333-4cc0-b532-b4c922e80e6d",
   "metadata": {},
   "outputs": [],
   "source": [
    "# delete column Unnamed:  0"
   ]
  },
  {
   "cell_type": "code",
   "execution_count": 101,
   "id": "c1198b28-57d2-4f25-9349-92e51af0c1e0",
   "metadata": {},
   "outputs": [],
   "source": [
    "df = df.drop(columns=[\"Unnamed:_0\"])"
   ]
  },
  {
   "cell_type": "code",
   "execution_count": 102,
   "id": "819187ce-d9e6-4141-ae78-3f08103d642a",
   "metadata": {},
   "outputs": [
    {
     "name": "stdout",
     "output_type": "stream",
     "text": [
      "['MovieID', 'Title', 'Director', 'Genre', 'ReleaseYear', 'Budget__Crores', 'BoxOffice__Crores', 'Rating', 'Duration__minutes', 'LeadActor', 'LeadActress', 'Language', 'ProductionCompany']\n"
     ]
    }
   ],
   "source": [
    "print(df.columns.tolist())\n"
   ]
  },
  {
   "cell_type": "code",
   "execution_count": 103,
   "id": "9c27c6af-0a72-4bb2-9ef8-9b5117d1f751",
   "metadata": {},
   "outputs": [],
   "source": [
    "# fill null values in ReleaseYear','Budget__Crores','BoxOffice__Crores', 'Rating', 'Duration__minutes' with median values."
   ]
  },
  {
   "cell_type": "code",
   "execution_count": 104,
   "id": "c2434f0f-0254-4c66-b0ae-235d0b981a77",
   "metadata": {},
   "outputs": [],
   "source": [
    "cols=['ReleaseYear','Budget__Crores','BoxOffice__Crores', 'Rating', 'Duration__minutes'] \n",
    "for col in cols:\n",
    "    df[col]=df[col].fillna(df[col].median())"
   ]
  },
  {
   "cell_type": "code",
   "execution_count": 105,
   "id": "3bdd254b-cb69-4825-9587-d353bf409e66",
   "metadata": {},
   "outputs": [],
   "source": [
    "# drop duplicates if any exists."
   ]
  },
  {
   "cell_type": "code",
   "execution_count": 106,
   "id": "6535c575-b0cc-4c7e-87a2-43fe340003f9",
   "metadata": {},
   "outputs": [],
   "source": [
    "df=df.drop_duplicates()"
   ]
  },
  {
   "cell_type": "code",
   "execution_count": 107,
   "id": "a76ee30b-9414-4b57-b73d-cccb7c457bb0",
   "metadata": {},
   "outputs": [],
   "source": [
    "# save cleaned file into .xlsx format "
   ]
  },
  {
   "cell_type": "code",
   "execution_count": 108,
   "id": "60487230-b37f-40d7-913d-e027c154e166",
   "metadata": {},
   "outputs": [],
   "source": [
    "df.to_excel(\"cleaned_indian_movies.xlsx\",index= False)"
   ]
  },
  {
   "cell_type": "markdown",
   "id": "cbda859e-cd3d-4910-9576-3f72ccd3389b",
   "metadata": {},
   "source": [
    "# Cleaning tollywood_movies.xlsx"
   ]
  },
  {
   "cell_type": "code",
   "execution_count": 109,
   "id": "ed08c95a-7906-4ed8-8237-4587d806d84c",
   "metadata": {},
   "outputs": [],
   "source": [
    "#load tollywood_movies.xlsx"
   ]
  },
  {
   "cell_type": "code",
   "execution_count": 110,
   "id": "a0a57758-b380-42fb-9f6d-2756c25d40fa",
   "metadata": {},
   "outputs": [],
   "source": [
    "db_path = os.path.join('movies_data','tollywood_movies.xlsx')\n",
    "df = pd.read_excel(db_path)"
   ]
  },
  {
   "cell_type": "code",
   "execution_count": 111,
   "id": "42e03b85-b951-4dc2-becb-d2138528ca82",
   "metadata": {},
   "outputs": [
    {
     "data": {
      "text/html": [
       "<div>\n",
       "<style scoped>\n",
       "    .dataframe tbody tr th:only-of-type {\n",
       "        vertical-align: middle;\n",
       "    }\n",
       "\n",
       "    .dataframe tbody tr th {\n",
       "        vertical-align: top;\n",
       "    }\n",
       "\n",
       "    .dataframe thead th {\n",
       "        text-align: right;\n",
       "    }\n",
       "</style>\n",
       "<table border=\"1\" class=\"dataframe\">\n",
       "  <thead>\n",
       "    <tr style=\"text-align: right;\">\n",
       "      <th></th>\n",
       "      <th>Unnamed: 0</th>\n",
       "      <th>MovieID</th>\n",
       "      <th>Title</th>\n",
       "      <th>Director</th>\n",
       "      <th>Genre</th>\n",
       "      <th>ReleaseYear</th>\n",
       "      <th>Budget (Crores)</th>\n",
       "      <th>BoxOffice (Crores)</th>\n",
       "      <th>Rating</th>\n",
       "      <th>Duration (minutes)</th>\n",
       "      <th>LeadActor</th>\n",
       "      <th>LeadActress</th>\n",
       "      <th>Language</th>\n",
       "      <th>ProductionCompany</th>\n",
       "    </tr>\n",
       "  </thead>\n",
       "  <tbody>\n",
       "    <tr>\n",
       "      <th>0</th>\n",
       "      <td>0</td>\n",
       "      <td>MOV004</td>\n",
       "      <td>Baahubali 2: The Conclusion</td>\n",
       "      <td>S. S. Rajamouli</td>\n",
       "      <td>Epic Fantasy Action</td>\n",
       "      <td>NaN</td>\n",
       "      <td>250</td>\n",
       "      <td>1810</td>\n",
       "      <td>8.2</td>\n",
       "      <td>171.0</td>\n",
       "      <td>Prabhas</td>\n",
       "      <td>Anushka Shetty</td>\n",
       "      <td>Telugu</td>\n",
       "      <td>Arka Media Works</td>\n",
       "    </tr>\n",
       "    <tr>\n",
       "      <th>1</th>\n",
       "      <td>1</td>\n",
       "      <td>MOV021</td>\n",
       "      <td>Bahubali: The Beginning</td>\n",
       "      <td>S. S. Rajamouli</td>\n",
       "      <td>Epic Fantasy Action</td>\n",
       "      <td>2015.0</td>\n",
       "      <td>180</td>\n",
       "      <td>650</td>\n",
       "      <td>8.1</td>\n",
       "      <td>159.0</td>\n",
       "      <td>Prabhas</td>\n",
       "      <td>Tamannaah</td>\n",
       "      <td>Telugu</td>\n",
       "      <td>NaN</td>\n",
       "    </tr>\n",
       "    <tr>\n",
       "      <th>2</th>\n",
       "      <td>2</td>\n",
       "      <td>MOV023</td>\n",
       "      <td>Sye Raa Narasimha Reddy</td>\n",
       "      <td>Surender Reddy</td>\n",
       "      <td>Historical Action</td>\n",
       "      <td>2019.0</td>\n",
       "      <td>200</td>\n",
       "      <td>265</td>\n",
       "      <td>7.1</td>\n",
       "      <td>167.0</td>\n",
       "      <td>Chiranjeevi</td>\n",
       "      <td>Nayanthara</td>\n",
       "      <td>Telugu</td>\n",
       "      <td>Konidela Production Company</td>\n",
       "    </tr>\n",
       "    <tr>\n",
       "      <th>3</th>\n",
       "      <td>3</td>\n",
       "      <td>MOV025</td>\n",
       "      <td>Jersey</td>\n",
       "      <td>Gowtam Tinnanuri</td>\n",
       "      <td>Sports Drama</td>\n",
       "      <td>2019.0</td>\n",
       "      <td>20</td>\n",
       "      <td>45</td>\n",
       "      <td>7.8</td>\n",
       "      <td>NaN</td>\n",
       "      <td>Nani</td>\n",
       "      <td>Shraddha Srinath</td>\n",
       "      <td>NaN</td>\n",
       "      <td>Sithara Entertainments</td>\n",
       "    </tr>\n",
       "    <tr>\n",
       "      <th>4</th>\n",
       "      <td>4</td>\n",
       "      <td>MOV027</td>\n",
       "      <td>Geetha Govindam</td>\n",
       "      <td>Parasuram</td>\n",
       "      <td>Romantic Comedy</td>\n",
       "      <td>2018.0</td>\n",
       "      <td>10</td>\n",
       "      <td>130</td>\n",
       "      <td>NaN</td>\n",
       "      <td>148.0</td>\n",
       "      <td>Vijay Deverakonda</td>\n",
       "      <td>Rashmika Mandanna</td>\n",
       "      <td>NaN</td>\n",
       "      <td>GA2 Pictures</td>\n",
       "    </tr>\n",
       "  </tbody>\n",
       "</table>\n",
       "</div>"
      ],
      "text/plain": [
       "   Unnamed: 0 MovieID                        Title          Director  \\\n",
       "0           0  MOV004  Baahubali 2: The Conclusion   S. S. Rajamouli   \n",
       "1           1  MOV021      Bahubali: The Beginning   S. S. Rajamouli   \n",
       "2           2  MOV023      Sye Raa Narasimha Reddy    Surender Reddy   \n",
       "3           3  MOV025                       Jersey  Gowtam Tinnanuri   \n",
       "4           4  MOV027              Geetha Govindam         Parasuram   \n",
       "\n",
       "                 Genre  ReleaseYear  Budget (Crores)  BoxOffice (Crores)  \\\n",
       "0  Epic Fantasy Action          NaN              250                1810   \n",
       "1  Epic Fantasy Action       2015.0              180                 650   \n",
       "2    Historical Action       2019.0              200                 265   \n",
       "3         Sports Drama       2019.0               20                  45   \n",
       "4      Romantic Comedy       2018.0               10                 130   \n",
       "\n",
       "   Rating  Duration (minutes)          LeadActor        LeadActress Language  \\\n",
       "0     8.2               171.0            Prabhas     Anushka Shetty   Telugu   \n",
       "1     8.1               159.0            Prabhas          Tamannaah   Telugu   \n",
       "2     7.1               167.0        Chiranjeevi         Nayanthara   Telugu   \n",
       "3     7.8                 NaN               Nani   Shraddha Srinath      NaN   \n",
       "4     NaN               148.0  Vijay Deverakonda  Rashmika Mandanna      NaN   \n",
       "\n",
       "             ProductionCompany  \n",
       "0             Arka Media Works  \n",
       "1                          NaN  \n",
       "2  Konidela Production Company  \n",
       "3       Sithara Entertainments  \n",
       "4                 GA2 Pictures  "
      ]
     },
     "execution_count": 111,
     "metadata": {},
     "output_type": "execute_result"
    }
   ],
   "source": [
    "df.head()"
   ]
  },
  {
   "cell_type": "code",
   "execution_count": 112,
   "id": "ac4f701c-0f93-43b1-bc38-6131fc8a85d5",
   "metadata": {},
   "outputs": [
    {
     "name": "stdout",
     "output_type": "stream",
     "text": [
      "<class 'pandas.core.frame.DataFrame'>\n",
      "RangeIndex: 10 entries, 0 to 9\n",
      "Data columns (total 14 columns):\n",
      " #   Column              Non-Null Count  Dtype  \n",
      "---  ------              --------------  -----  \n",
      " 0   Unnamed: 0          10 non-null     int64  \n",
      " 1   MovieID             10 non-null     object \n",
      " 2   Title               10 non-null     object \n",
      " 3   Director            10 non-null     object \n",
      " 4   Genre               10 non-null     object \n",
      " 5   ReleaseYear         8 non-null      float64\n",
      " 6   Budget (Crores)     10 non-null     int64  \n",
      " 7   BoxOffice (Crores)  10 non-null     int64  \n",
      " 8   Rating              9 non-null      float64\n",
      " 9   Duration (minutes)  9 non-null      float64\n",
      " 10  LeadActor           10 non-null     object \n",
      " 11  LeadActress         10 non-null     object \n",
      " 12  Language            7 non-null      object \n",
      " 13  ProductionCompany   9 non-null      object \n",
      "dtypes: float64(3), int64(3), object(8)\n",
      "memory usage: 1.2+ KB\n"
     ]
    }
   ],
   "source": [
    "df.info()"
   ]
  },
  {
   "cell_type": "code",
   "execution_count": 113,
   "id": "afc75cf6-93fc-4e5e-b4d9-3b9cb48e2df8",
   "metadata": {},
   "outputs": [
    {
     "data": {
      "text/plain": [
       "Unnamed: 0            0\n",
       "MovieID               0\n",
       "Title                 0\n",
       "Director              0\n",
       "Genre                 0\n",
       "ReleaseYear           2\n",
       "Budget (Crores)       0\n",
       "BoxOffice (Crores)    0\n",
       "Rating                1\n",
       "Duration (minutes)    1\n",
       "LeadActor             0\n",
       "LeadActress           0\n",
       "Language              3\n",
       "ProductionCompany     1\n",
       "dtype: int64"
      ]
     },
     "execution_count": 113,
     "metadata": {},
     "output_type": "execute_result"
    }
   ],
   "source": [
    "df.isnull().sum()"
   ]
  },
  {
   "cell_type": "code",
   "execution_count": 114,
   "id": "97937eaf-d292-4f9d-ac0c-81b61122f62e",
   "metadata": {},
   "outputs": [],
   "source": [
    "# remove special charcters and replace with '_' to avoid change in index "
   ]
  },
  {
   "cell_type": "code",
   "execution_count": 115,
   "id": "cf02837d-1195-4c2e-8830-e31bf91e7580",
   "metadata": {},
   "outputs": [],
   "source": [
    "df.columns = df.columns.str.replace(r\"[()\\s]\",\"_\",regex=True).str.strip(\"_\")"
   ]
  },
  {
   "cell_type": "code",
   "execution_count": 116,
   "id": "d4cb1900-2f71-421c-bff1-39fa26116bc7",
   "metadata": {},
   "outputs": [
    {
     "name": "stdout",
     "output_type": "stream",
     "text": [
      "['Unnamed:_0', 'MovieID', 'Title', 'Director', 'Genre', 'ReleaseYear', 'Budget__Crores', 'BoxOffice__Crores', 'Rating', 'Duration__minutes', 'LeadActor', 'LeadActress', 'Language', 'ProductionCompany']\n"
     ]
    }
   ],
   "source": [
    "print(df.columns.tolist())"
   ]
  },
  {
   "cell_type": "code",
   "execution_count": 117,
   "id": "97da50fc-075d-45a8-9acf-d9a19bbc7579",
   "metadata": {},
   "outputs": [],
   "source": [
    "# drop column Unnamed: 0"
   ]
  },
  {
   "cell_type": "code",
   "execution_count": 118,
   "id": "e22aded5-0af6-438d-9978-5afc12c7b32a",
   "metadata": {},
   "outputs": [],
   "source": [
    "df = df.drop(columns=['Unnamed:_0'])"
   ]
  },
  {
   "cell_type": "code",
   "execution_count": 119,
   "id": "97623bbc-37bc-43d5-8440-b793f3c391c6",
   "metadata": {},
   "outputs": [],
   "source": [
    "# null numeric columns are filled with median values ."
   ]
  },
  {
   "cell_type": "code",
   "execution_count": 120,
   "id": "223d2e59-9a4e-4192-ad21-0922322b5da7",
   "metadata": {},
   "outputs": [],
   "source": [
    "numeric_cols = df.select_dtypes(include=['float64', 'int64']).columns\n",
    "for col in numeric_cols:\n",
    "    df[col] = df[col].fillna(df[col].median())"
   ]
  },
  {
   "cell_type": "code",
   "execution_count": 121,
   "id": "335dcd5b-b5d4-4039-82ef-2f6ef8e96de0",
   "metadata": {},
   "outputs": [],
   "source": [
    "#null text columns are filled with 'Unknown'."
   ]
  },
  {
   "cell_type": "code",
   "execution_count": 122,
   "id": "8d186678-9934-4bf4-8712-eea597a80c77",
   "metadata": {},
   "outputs": [],
   "source": [
    "text_cols = df.select_dtypes(include='object').columns\n",
    "for col in text_cols:\n",
    "    df[col] = df[col].fillna(\"Unknown\").str.strip()\n"
   ]
  },
  {
   "cell_type": "code",
   "execution_count": 123,
   "id": "b1f9777a-72ca-40ba-b3d8-abd11e42bed6",
   "metadata": {},
   "outputs": [],
   "source": [
    "# delete duplicates if any exists."
   ]
  },
  {
   "cell_type": "code",
   "execution_count": 124,
   "id": "b3e30390-5c82-4e9e-82d0-b7f8ebc58b4b",
   "metadata": {},
   "outputs": [],
   "source": [
    "df = df.drop_duplicates()"
   ]
  },
  {
   "cell_type": "code",
   "execution_count": 125,
   "id": "e936a9ee-2e96-4016-831c-32fa606e69c3",
   "metadata": {},
   "outputs": [],
   "source": [
    "# save cleaned files into .xlsx format."
   ]
  },
  {
   "cell_type": "code",
   "execution_count": 126,
   "id": "5b45fb4d-99df-47cb-bd5a-e4e507422a56",
   "metadata": {},
   "outputs": [],
   "source": [
    "df.to_excel(\"cleaned_tollywood_movies.xlsx\", index=False)"
   ]
  },
  {
   "cell_type": "code",
   "execution_count": null,
   "id": "06873171-3340-4508-be29-2af642793613",
   "metadata": {},
   "outputs": [],
   "source": []
  }
 ],
 "metadata": {
  "kernelspec": {
   "display_name": "Python 3 (ipykernel)",
   "language": "python",
   "name": "python3"
  },
  "language_info": {
   "codemirror_mode": {
    "name": "ipython",
    "version": 3
   },
   "file_extension": ".py",
   "mimetype": "text/x-python",
   "name": "python",
   "nbconvert_exporter": "python",
   "pygments_lexer": "ipython3",
   "version": "3.10.12"
  }
 },
 "nbformat": 4,
 "nbformat_minor": 5
}
